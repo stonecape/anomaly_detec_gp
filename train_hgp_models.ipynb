{
 "cells": [
  {
   "cell_type": "code",
   "execution_count": 6,
   "metadata": {
    "collapsed": true
   },
   "outputs": [],
   "source": [
    "%matplotlib inline\n",
    "%config InlineBackend.figure_format = 'svg'\n",
    "from random import *\n",
    "from matplotlib import pyplot as plt\n",
    "import numpy as np\n",
    "import GPy\n",
    "from datetime import datetime\n",
    "\n",
    "# change here\n",
    "model_class_names = [3]\n",
    "\n",
    "# randomly sample demo_light_num rows to model our function\n",
    "demo_light_percentage = 0.1;\n",
    "\n",
    "# sample sample_time_index_num time-indexes/columns from the data (1024 columns totally)\n",
    "sample_time_index_num = 10;\n",
    "\n",
    "lightcurve_train_set_path = \"./StarLightCurves/StarLightCurves_TRAIN\""
   ]
  },
  {
   "cell_type": "code",
   "execution_count": 7,
   "metadata": {},
   "outputs": [
    {
     "name": "stdout",
     "output_type": "stream",
     "text": [
      "We choose the following  10 time indexes from 1024 ones\n",
      " [  43  158  202  243  498  545  830  866  911 1003]\n"
     ]
    }
   ],
   "source": [
    "# sample_time_index_num time indexes from 1024 indexes\n",
    "times_indexes = np.asarray(sorted(sample(list(range(0, 1024)), sample_time_index_num)))\n",
    "# times_indexes = np.arange(0,1024, 1024/sample_time_index_num, dtype=int);\n",
    "print(\"We choose the following \",sample_time_index_num, \"time indexes from 1024 ones\\n\", times_indexes)"
   ]
  },
  {
   "cell_type": "code",
   "execution_count": 8,
   "metadata": {
    "collapsed": true
   },
   "outputs": [],
   "source": [
    "# class name {1,2,3}\n",
    "class_names = np.loadtxt(lightcurve_train_set_path, delimiter=',', usecols=[0])\n",
    "\n",
    "# light curve data\n",
    "light_curve = np.loadtxt(lightcurve_train_set_path, delimiter=',', usecols=range(1, 1025))\n",
    "\n",
    "# normalize magnitude\n",
    "light_curve -= light_curve.mean(1)[:,np.newaxis]\n",
    "light_curve /= light_curve.std(1)[:,np.newaxis]"
   ]
  },
  {
   "cell_type": "code",
   "execution_count": 12,
   "metadata": {},
   "outputs": [
    {
     "name": "stdout",
     "output_type": "stream",
     "text": [
      "model_class_names= [3]  totally has  573  rows\n",
      "We select the following  57  rows\n",
      " [12, 29, 58, 122, 133, 204, 216, 244, 271, 273, 294, 308, 315, 316, 347, 359, 381, 387, 398, 404, 421, 442, 477, 479, 480, 489, 491, 492, 499, 542, 561, 569, 576, 585, 598, 599, 620, 672, 695, 698, 710, 731, 742, 747, 767, 800, 813, 834, 859, 878, 917, 938, 952, 967, 970, 984, 987]\n",
      "  \u001b[1mhierarchy.             \u001b[0;0m  |  value  |  constraints  |  priors\n",
      "  \u001b[1mclass.variance         \u001b[0;0m  |    1.5  |      +ve      |        \n",
      "  \u001b[1mclass.lengthscale      \u001b[0;0m  |    2.5  |      +ve      |        \n",
      "  \u001b[1mobservation.variance   \u001b[0;0m  |    0.1  |      +ve      |        \n",
      "  \u001b[1mobservation.lengthscale\u001b[0;0m  |    2.5  |      +ve      |        \n",
      "(570, 2)\n",
      "(570, 1)\n",
      "Running L-BFGS-B (Scipy implementation) Code:\n",
      "  runtime   i      f              |g|        \n",
      "    01s25  0009   3.782988e+02   4.659718e+00 \n",
      "    06s69  0042   3.782790e+02   2.253283e+01 \n",
      "    12s46  0085   3.782790e+02   2.330578e+01 \n",
      "Runtime:     12s46\n",
      "Optimization status: Converged\n",
      "\n",
      "\n",
      "Name : GP regression\n",
      "Objective : 378.2789863612424\n",
      "Number of Parameters : 5\n",
      "Number of Optimization Parameters : 5\n",
      "Updates : True\n",
      "Parameters:\n",
      "  \u001b[1mGP_regression.                   \u001b[0;0m  |            value  |  constraints  |  priors\n",
      "  \u001b[1mhierarchy.class.variance         \u001b[0;0m  |    1.22808991236  |      +ve      |        \n",
      "  \u001b[1mhierarchy.class.lengthscale      \u001b[0;0m  |    2.50000000003  |      +ve      |        \n",
      "  \u001b[1mhierarchy.observation.variance   \u001b[0;0m  |  0.0681747218628  |      +ve      |        \n",
      "  \u001b[1mhierarchy.observation.lengthscale\u001b[0;0m  |    2.50000000938  |      +ve      |        \n",
      "  \u001b[1mGaussian_noise.variance          \u001b[0;0m  |   0.136773277742  |      +ve      |        \n"
     ]
    }
   ],
   "source": [
    "\n",
    "indices = [i for i,cn in enumerate(class_names) if cn in model_class_names]\n",
    "print(\"model_class_names=\",model_class_names,\" totally has \", len(indices), \" rows\");\n",
    "\n",
    "demo_light_num = int(demo_light_percentage * len(indices))\n",
    "indices = sorted(sample(indices, demo_light_num))\n",
    "# indices = indices[0:demo_light_num]\n",
    "print(\"We select the following \",len(indices),\" rows\\n\",indices)\n",
    "\n",
    "kern_class = GPy.kern.Matern32(input_dim=1, variance=1.5, lengthscale=2.5, active_dims=[0], name='class')\n",
    "kern_observation = GPy.kern.Matern32(input_dim=1, variance=.1, lengthscale=2.5, active_dims=[0], name='observation')\n",
    "k_hierarchy = GPy.kern.Hierarchical(kernels=[kern_class, kern_observation])\n",
    "print(k_hierarchy)\n",
    "\n",
    "time_index_stack = np.tile(times_indexes.reshape(-1,1),(demo_light_num, 1)) ;\n",
    "\n",
    "observation_stack = []\n",
    "for r in range(1, demo_light_num + 1):\n",
    "    observation_stack.append(np.ones(sample_time_index_num) * r);\n",
    "\n",
    "observation_stack = np.asarray(observation_stack).reshape(-1,1);\n",
    "\n",
    "filtered_light_curve = light_curve[indices]\n",
    "filtered_light_curve = filtered_light_curve[:,times_indexes]\n",
    "\n",
    "X = np.hstack((time_index_stack, observation_stack))\n",
    "X = np.vstack(X)\n",
    "Y = np.vstack(filtered_light_curve.reshape(-1,1))\n",
    "\n",
    "print(X.shape)\n",
    "print(Y.shape)\n",
    "\n",
    "X_file_path = \"./StarLight_files/X_files/X_\" + str(model_class_names)  + \".npy\"\n",
    "Y_file_path = \"./StarLight_files/Y_files/Y_\" + str(model_class_names)  + \".npy\"\n",
    "\n",
    "np.save(X_file_path, X)\n",
    "np.save(Y_file_path, Y)\n",
    "\n",
    "m = GPy.models.GPRegression(X=X, Y=Y, kernel=k_hierarchy)\n",
    "# m.optimize_restarts(num_restarts=3);\n",
    "m.optimize('bfgs', messages=1)\n",
    "print(m)\n",
    "\n",
    "save_file_path = \"./StarLight_files/model_save_files/model_save\" + str(model_class_names) + \".npy\"\n",
    "np.save(save_file_path, m.param_array)\n"
   ]
  },
  {
   "cell_type": "code",
   "execution_count": null,
   "metadata": {
    "collapsed": true
   },
   "outputs": [],
   "source": []
  },
  {
   "cell_type": "code",
   "execution_count": null,
   "metadata": {
    "collapsed": true
   },
   "outputs": [],
   "source": []
  }
 ],
 "metadata": {
  "kernelspec": {
   "display_name": "Python 3",
   "language": "python",
   "name": "python3"
  },
  "language_info": {
   "codemirror_mode": {
    "name": "ipython",
    "version": 3
   },
   "file_extension": ".py",
   "mimetype": "text/x-python",
   "name": "python",
   "nbconvert_exporter": "python",
   "pygments_lexer": "ipython3",
   "version": "3.6.1"
  }
 },
 "nbformat": 4,
 "nbformat_minor": 2
}
