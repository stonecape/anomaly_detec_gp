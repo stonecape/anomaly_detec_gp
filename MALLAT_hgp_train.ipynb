{
 "cells": [
  {
   "cell_type": "code",
   "execution_count": 6,
   "metadata": {
    "collapsed": true
   },
   "outputs": [],
   "source": [
    "%matplotlib inline\n",
    "%config InlineBackend.figure_format = 'svg'\n",
    "from random import *\n",
    "from matplotlib import pyplot as plt\n",
    "import numpy as np\n",
    "import GPy\n",
    "from datetime import datetime\n",
    "\n",
    "# change here\n",
    "model_class_names = [3,6]\n",
    "\n",
    "# randomly sample demo_light_num rows to model our function\n",
    "sample_percentage = 1;\n",
    "\n",
    "# sample sample_time_index_num time-indexes/columns from the data (1024 columns totally)\n",
    "sample_time_index_num = 200;\n",
    "\n",
    "m_train_set_path = \"./MALLAT/MALLAT_TRAIN\""
   ]
  },
  {
   "cell_type": "code",
   "execution_count": 7,
   "metadata": {},
   "outputs": [
    {
     "name": "stdout",
     "output_type": "stream",
     "text": [
      "We choose the following  200 time indexes from 1024 ones\n",
      " [   3    5   14   17   31   59   63   76   77   83   85   93   94   97  100\n",
      "  102  114  118  119  121  132  136  141  155  163  165  166  169  177  185\n",
      "  191  192  193  196  198  201  202  204  208  209  218  220  221  225  235\n",
      "  238  239  255  263  272  274  279  281  282  287  292  294  303  315  319\n",
      "  321  325  331  336  343  347  348  350  355  356  358  362  365  366  369\n",
      "  380  390  391  403  404  410  412  414  416  420  429  435  436  444  451\n",
      "  452  455  458  464  465  474  476  481  491  495  497  498  507  516  521\n",
      "  523  530  531  535  536  546  547  552  571  582  586  596  606  616  618\n",
      "  624  633  639  640  644  649  651  657  659  665  671  674  678  682  687\n",
      "  689  695  698  699  702  706  707  709  716  722  735  737  738  747  750\n",
      "  751  760  762  779  781  789  791  801  805  814  818  828  830  831  832\n",
      "  837  840  841  845  867  873  875  890  891  895  896  897  899  905  906\n",
      "  915  920  924  933  936  950  959  960  962  968  973  985  988  995  996\n",
      " 1005 1010 1012 1013 1021]\n"
     ]
    }
   ],
   "source": [
    "# sample_time_index_num time indexes from 1024 indexes\n",
    "times_indexes = np.asarray(sorted(sample(list(range(0, 1024)), sample_time_index_num)))\n",
    "# times_indexes = np.arange(0,1024, 1024/sample_time_index_num, dtype=int);\n",
    "print(\"We choose the following \",sample_time_index_num, \"time indexes from 1024 ones\\n\", times_indexes)"
   ]
  },
  {
   "cell_type": "code",
   "execution_count": 8,
   "metadata": {
    "collapsed": true
   },
   "outputs": [],
   "source": [
    "# class name {1,2,3}\n",
    "class_names = np.loadtxt(m_train_set_path, delimiter=',', usecols=[0])\n",
    "m_data = np.loadtxt(m_train_set_path, delimiter=',',usecols=range(1,1025))\n",
    "\n",
    "# normalize magnitude\n",
    "m_data -= m_data.mean(1)[:,np.newaxis]\n",
    "m_data /= m_data.std(1)[:,np.newaxis]"
   ]
  },
  {
   "cell_type": "code",
   "execution_count": 9,
   "metadata": {},
   "outputs": [
    {
     "name": "stdout",
     "output_type": "stream",
     "text": [
      "model_class_names= [3, 6]  totally has  12  rows\n",
      "We select the following  12  rows\n",
      " [0, 8, 11, 12, 17, 30, 31, 38, 42, 44, 50, 54]\n"
     ]
    }
   ],
   "source": [
    "indices = [i for i,cn in enumerate(class_names) if cn in model_class_names]\n",
    "print(\"model_class_names=\",model_class_names,\" totally has \", len(indices), \" rows\");\n",
    "\n",
    "demo_num = int(sample_percentage * len(indices))\n",
    "indices = sorted(sample(indices, demo_num))\n",
    "# indices = indices[0:demo_light_num]\n",
    "print(\"We select the following \",len(indices),\" rows\\n\",indices)"
   ]
  },
  {
   "cell_type": "code",
   "execution_count": 10,
   "metadata": {},
   "outputs": [
    {
     "name": "stdout",
     "output_type": "stream",
     "text": [
      "  \u001b[1mhierarchy.           \u001b[0;0m  |  value  |  constraints  |  priors\n",
      "  \u001b[1mclass.variance       \u001b[0;0m  |    1.5  |      +ve      |        \n",
      "  \u001b[1mclass.lengthscale    \u001b[0;0m  |    2.5  |      +ve      |        \n",
      "  \u001b[1mreplicate.variance   \u001b[0;0m  |    0.1  |      +ve      |        \n",
      "  \u001b[1mreplicate.lengthscale\u001b[0;0m  |    2.5  |      +ve      |        \n",
      "(2400, 2)\n",
      "(2400, 1)\n",
      "Optimization restart 1/2, f = -3792.7070369855874\n",
      "Optimization restart 2/2, f = -3957.709523413446\n",
      "Running L-BFGS-B (Scipy implementation) Code:\n",
      "  runtime   i      f              |g|        \n",
      "    06s55  0004  -3.980104e+03   3.136444e+02 \n",
      "    21s94  0013  -3.969630e+03   6.532566e+04 \n",
      " 01m03s79  0038  -3.991139e+03   1.169302e+02 \n",
      " 03m01s49  0108  -3.999670e+03   9.207111e+02 \n",
      " 03m30s01  0125  -3.999818e+03   6.638237e+02 \n",
      " 03m45s06  0134  -4.000428e+03   9.641856e+00 \n",
      " 04m23s72  0157  -4.001631e+03   1.263596e+02 \n",
      " 04m32s12  0162  -4.001631e+03   1.295739e+02 \n",
      " 04m50s43  0173  -4.001631e+03   1.263598e+02 \n",
      "Runtime:  04m50s43\n",
      "Optimization status: Converged\n",
      "\n",
      "\n",
      "Name : GP regression\n",
      "Objective : -4001.631169446323\n",
      "Number of Parameters : 5\n",
      "Number of Optimization Parameters : 5\n",
      "Updates : True\n",
      "Parameters:\n",
      "  \u001b[1mGP_regression.                 \u001b[0;0m  |              value  |  constraints  |  priors\n",
      "  \u001b[1mhierarchy.class.variance       \u001b[0;0m  |      1.73640608998  |      +ve      |        \n",
      "  \u001b[1mhierarchy.class.lengthscale    \u001b[0;0m  |      36.0678947244  |      +ve      |        \n",
      "  \u001b[1mhierarchy.replicate.variance   \u001b[0;0m  |    0.0290898325623  |      +ve      |        \n",
      "  \u001b[1mhierarchy.replicate.lengthscale\u001b[0;0m  |      18.6322038063  |      +ve      |        \n",
      "  \u001b[1mGaussian_noise.variance        \u001b[0;0m  |  6.33292488325e-12  |      +ve      |        \n"
     ]
    }
   ],
   "source": [
    "kern_class = GPy.kern.Matern32(input_dim=1, variance=1.5, lengthscale=2.5, active_dims=[0], name='class')\n",
    "kern_replicate = GPy.kern.Matern32(input_dim=1, variance=.1, lengthscale=2.5, active_dims=[0], name='replicate')\n",
    "k_hierarchy = GPy.kern.Hierarchical(kernels=[kern_class, kern_replicate])\n",
    "print(k_hierarchy)\n",
    "\n",
    "time_index_stack = np.tile(times_indexes.reshape(-1,1),(demo_num, 1)) ;\n",
    "\n",
    "replicate_stack = []\n",
    "for r in range(1, demo_num + 1):\n",
    "    replicate_stack.append(np.ones(sample_time_index_num) * r);\n",
    "\n",
    "replicate_stack = np.asarray(replicate_stack).reshape(-1,1);\n",
    "\n",
    "filtered_data = m_data[indices]\n",
    "filtered_data = filtered_data[:,times_indexes]\n",
    "\n",
    "X = np.hstack((time_index_stack, replicate_stack))\n",
    "X = np.vstack(X)\n",
    "Y = np.vstack(filtered_data.reshape(-1,1))\n",
    "\n",
    "print(X.shape)\n",
    "print(Y.shape)\n",
    "\n",
    "X_file_path = \"./sample_size_train_code/mallat_model_files/X_\" + str(model_class_names) + str(sample_percentage) + \".npy\"\n",
    "Y_file_path = \"./sample_size_train_code/mallat_model_files/Y_\" + str(model_class_names) + str(sample_percentage) + \".npy\"\n",
    "\n",
    "np.save(X_file_path, X)\n",
    "np.save(Y_file_path, Y)\n",
    "\n",
    "m = GPy.models.GPRegression(X=X, Y=Y, kernel=k_hierarchy)\n",
    "m.optimize_restarts(num_restarts=2);\n",
    "m.optimize('bfgs', messages=1)\n",
    "print(m)\n",
    "\n",
    "save_file_path = \"./sample_size_train_code/mallat_model_files/model_save\" + str(model_class_names) + str(sample_percentage)  + \".npy\"\n",
    "np.save(save_file_path, m.param_array)"
   ]
  },
  {
   "cell_type": "code",
   "execution_count": null,
   "metadata": {
    "collapsed": true
   },
   "outputs": [],
   "source": []
  },
  {
   "cell_type": "code",
   "execution_count": null,
   "metadata": {
    "collapsed": true
   },
   "outputs": [],
   "source": []
  }
 ],
 "metadata": {
  "kernelspec": {
   "display_name": "Python 3",
   "language": "python",
   "name": "python3"
  },
  "language_info": {
   "codemirror_mode": {
    "name": "ipython",
    "version": 3
   },
   "file_extension": ".py",
   "mimetype": "text/x-python",
   "name": "python",
   "nbconvert_exporter": "python",
   "pygments_lexer": "ipython3",
   "version": "3.6.1"
  }
 },
 "nbformat": 4,
 "nbformat_minor": 2
}
